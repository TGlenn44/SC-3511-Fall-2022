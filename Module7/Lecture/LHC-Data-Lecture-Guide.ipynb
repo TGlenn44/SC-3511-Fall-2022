{
 "cells": [
  {
   "cell_type": "markdown",
   "metadata": {
    "slideshow": {
     "slide_type": "slide"
    }
   },
   "source": [
    "About the data sets: http://opendata.cern.ch/record/545"
   ]
  },
  {
   "cell_type": "markdown",
   "metadata": {},
   "source": [
    "# Import libraries needed for the analysis\n",
    "\n",
    "* Pandas - For data analysis/manipulation\n",
    "* Numpy - Math operations\n",
    "* Matplotlib - for ploting\n",
    "* scipy - optimize for fitting data and speacial needed to compute p-value"
   ]
  },
  {
   "cell_type": "code",
   "execution_count": null,
   "metadata": {
    "slideshow": {
     "slide_type": "slide"
    }
   },
   "outputs": [],
   "source": [
    "import pandas as pd\n",
    "\n",
    "import numpy as np\n",
    "\n",
    "import matplotlib.pyplot as plt\n",
    "\n",
    "import scipy as sp\n",
    "from scipy import optimize\n",
    "from scipy.optimize import curve_fit\n",
    "import scipy.special as sf\n",
    "\n",
    "%matplotlib notebook\n"
   ]
  },
  {
   "cell_type": "markdown",
   "metadata": {},
   "source": [
    "# Get the Data\n",
    "\n",
    "1) Read in the data and save it into a DataFrame object \\\n",
    "\\\n",
    "2) Explore the data set:\n",
    "* How many columns are there?\n",
    "* What are the column names?\n",
    "* Are any of them null values?\n",
    "* Use hist() method to see the distributions of the quantities in the data set"
   ]
  },
  {
   "cell_type": "code",
   "execution_count": null,
   "metadata": {},
   "outputs": [],
   "source": []
  },
  {
   "cell_type": "code",
   "execution_count": null,
   "metadata": {},
   "outputs": [],
   "source": []
  },
  {
   "cell_type": "markdown",
   "metadata": {
    "slideshow": {
     "slide_type": "slide"
    }
   },
   "source": [
    "# Creat the invariant mass\n",
    "Create a new DataFrame column called 'M', which has the value of the invariant mass defined as:\n",
    "\n",
    "## $$ m_{inv} = \\sqrt{2p_{t,1}p_{t,2}[\\cosh(\\eta_1 - \\eta_2) - \\cos(\\phi_1 -\\phi_2)]}$$"
   ]
  },
  {
   "cell_type": "code",
   "execution_count": null,
   "metadata": {
    "slideshow": {
     "slide_type": "subslide"
    }
   },
   "outputs": [],
   "source": []
  },
  {
   "cell_type": "markdown",
   "metadata": {},
   "source": [
    "# Plot the invariant mass distribution"
   ]
  },
  {
   "cell_type": "code",
   "execution_count": null,
   "metadata": {
    "scrolled": false,
    "slideshow": {
     "slide_type": "subslide"
    }
   },
   "outputs": [],
   "source": []
  },
  {
   "cell_type": "markdown",
   "metadata": {
    "slideshow": {
     "slide_type": "slide"
    }
   },
   "source": [
    "# Define a fit function\n",
    "\n",
    "Define a function wich takes the invariant mass values ( df \\[ 'M' \\] ), $\\Gamma$, $M_Z$, a, b, and c as arguments and retuns the value: \n",
    "\n",
    "### $$ a\\cdot M + b + c\\cdot f(M)$$ ###\n",
    ", where $f(M)$ is the relativistic Breit-Winger distribution. \n",
    "\n",
    "### Relativistic Breit–Wigner Distribution\n",
    "Wikepedia: https://en.wikipedia.org/wiki/Relativistic_Breit%E2%80%93Wigner_distribution\n",
    "\n",
    "### $f(M) = \\frac{k}{(M^2 -M_{Z}^2)^2 + M_{Z}^2\\Gamma^2}$  ###\n",
    "\n",
    "where\n",
    "\n",
    "### * $\\gamma$ = $\\sqrt{M_{Z}^2(M_{Z}^2+\\Gamma^2)}$ ###\n",
    "### * $k = \\frac{2\\sqrt{2}M_{Z}\\Gamma\\gamma}{\\pi\\sqrt{M_{Z}^2+\\gamma}}$ ###"
   ]
  },
  {
   "cell_type": "code",
   "execution_count": null,
   "metadata": {
    "slideshow": {
     "slide_type": "subslide"
    }
   },
   "outputs": [],
   "source": []
  },
  {
   "cell_type": "markdown",
   "metadata": {},
   "source": [
    "# Prepping for fit\n",
    "\n",
    "1) Setup limits to define invariant mass range we want to fit over.\n",
    "* Lower limit = 70 $GeV/c^2$\n",
    "* Upper limit = 110 $GeV/c^2$\n",
    "* Number of histogram bins = 150\n",
    "\n",
    "2) Define arrays x_mu, y_mu, and y_mu_error, where \n",
    "* x_mu = invariant mass value at center of histogram\n",
    "* y_mu = the number of counts in the histogram bin\n",
    "* y_mu_error = the error on the counts in each bin (e.g. y_mu_error = sqrt(y_mu) )\n",
    " "
   ]
  },
  {
   "cell_type": "code",
   "execution_count": null,
   "metadata": {
    "slideshow": {
     "slide_type": "subslide"
    }
   },
   "outputs": [],
   "source": [
    "# Let's limit the fit near to the peak of the histogram.\n",
    "lowerlimit = \n",
    "upperlimit = \n",
    "bins = \n",
    "\n",
    "#grab the histogram vaues (mass values and counts for each bin\n"
   ]
  },
  {
   "cell_type": "markdown",
   "metadata": {},
   "source": [
    "# Make the fit\n",
    "1) Define inital values of fit parameters: 2.5, 91, -2, 200, 13000\n",
    "\n",
    "2) Use curve fit to obtain the fit parameters that fit the data the best (best_mu) and the covariance matrix (cov_mu)\n"
   ]
  },
  {
   "cell_type": "code",
   "execution_count": null,
   "metadata": {
    "slideshow": {
     "slide_type": "subslide"
    }
   },
   "outputs": [],
   "source": []
  },
  {
   "cell_type": "markdown",
   "metadata": {},
   "source": [
    "# Assess the fit\n",
    "1) Calculate the reduced $\\chi^2$ ($\\chi^2_R$) for the fit:\n",
    "$$ \\chi^2_{R} = \\frac{1}{N_{dof}}\\sum_i \\frac{(y_{data,i} - y_{fit,i})^2}{(y_{error,i})^2} $$\n",
    "2) Calculate the p-value: use \n",
    ">gammaincc( $\\frac{dof}{2}$, $\\frac{\\chi^2}{2}$)"
   ]
  },
  {
   "cell_type": "code",
   "execution_count": null,
   "metadata": {},
   "outputs": [],
   "source": []
  },
  {
   "cell_type": "markdown",
   "metadata": {
    "slideshow": {
     "slide_type": "slide"
    }
   },
   "source": [
    "# Comparing distributions\n",
    "1) Plot on the same canvas the two eta histogram distributions (eta1 and eta2)"
   ]
  },
  {
   "cell_type": "code",
   "execution_count": null,
   "metadata": {
    "slideshow": {
     "slide_type": "subslide"
    }
   },
   "outputs": [],
   "source": []
  },
  {
   "cell_type": "code",
   "execution_count": null,
   "metadata": {},
   "outputs": [],
   "source": []
  }
 ],
 "metadata": {
  "celltoolbar": "Slideshow",
  "kernelspec": {
   "display_name": "Python 3 (ipykernel)",
   "language": "python",
   "name": "python3"
  },
  "language_info": {
   "codemirror_mode": {
    "name": "ipython",
    "version": 3
   },
   "file_extension": ".py",
   "mimetype": "text/x-python",
   "name": "python",
   "nbconvert_exporter": "python",
   "pygments_lexer": "ipython3",
   "version": "3.9.12"
  }
 },
 "nbformat": 4,
 "nbformat_minor": 4
}
