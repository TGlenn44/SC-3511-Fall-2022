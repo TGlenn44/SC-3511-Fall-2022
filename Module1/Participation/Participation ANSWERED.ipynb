{
 "cells": [
  {
   "cell_type": "markdown",
   "id": "14d461ca",
   "metadata": {},
   "source": [
    "# In-Class Notebook: Python Review\n",
    "Complete notebook in class and upload to your github repository."
   ]
  },
  {
   "cell_type": "markdown",
   "id": "18093846",
   "metadata": {},
   "source": [
    " 1. Write a code that concatenates the two lists below index-wise. Create a new list that contains as it 0th index the concatenation of list1 and list2's 0th index, its 1st index as the concatenation of list1 and list2's 1st index and so on. \n",
    " \n",
    " Expected output:\n",
    " > ['who', 'Ya', 'gonna', 'call']"
   ]
  },
  {
   "cell_type": "code",
   "execution_count": 9,
   "id": "40da6c70",
   "metadata": {},
   "outputs": [
    {
     "name": "stdout",
     "output_type": "stream",
     "text": [
      "['who', 'Ya', 'gonna', 'call']\n"
     ]
    }
   ],
   "source": [
    "list1 = ['wh','Y','gon','ca']\n",
    "list2 = ['o','a','na','ll']\n",
    "#solution\n",
    "string1 = list1[0] + list2[0]\n",
    "string2 = list1[1] + list2[1]\n",
    "string3 = list1[2] + list2[2]\n",
    "string4 = list1[3] + list2[3]\n",
    "list3 = [string1, string2, string3, string4]\n",
    "print(list3)\n",
    "    \n",
    "\n"
   ]
  },
  {
   "cell_type": "markdown",
   "id": "cde39cf8",
   "metadata": {},
   "source": [
    "2. Write a program to iterate the first 10 numbers (0 to 9) and in each iteration, print the sum of the current and previous number.\n",
    "\n",
    "Expected output:\n",
    "> printing current and previous number sum in a range(10)\\\n",
    "> current number: 0 previous number: 0 sum: 0\\\n",
    "> current number: 1 previous number: 0 sum: 1\\\n",
    "> current number: 2 previous number: 1 sum: 3\\\n",
    "> current number: 3 previous number: 2 sum: 5\\\n",
    "> current number: 4 previous number: 3 sum: 7\\\n",
    "> current number: 5 previous number: 4 sum: 9\\\n",
    "> current number: 6 previous number: 5 sum: 11\\\n",
    "> current number: 7 previous number: 6 sum: 13\\\n",
    "> current number: 8 previous number: 7 sum: 15\\\n",
    "> current number: 9 previous number: 8 sum: 17"
   ]
  },
  {
   "cell_type": "code",
   "execution_count": 27,
   "id": "0ff36244",
   "metadata": {},
   "outputs": [
    {
     "name": "stdout",
     "output_type": "stream",
     "text": [
      "printing current and previous number sum in a range(10)\n",
      "current number: 0 previous number: 0 sum: 0\n",
      "current number: 1 previous number: 0 sum: 1\n",
      "current number: 2 previous number: 1 sum: 3\n",
      "current number: 3 previous number: 2 sum: 5\n",
      "current number: 4 previous number: 3 sum: 7\n",
      "current number: 5 previous number: 4 sum: 9\n",
      "current number: 6 previous number: 5 sum: 11\n",
      "current number: 7 previous number: 6 sum: 13\n",
      "current number: 8 previous number: 7 sum: 15\n",
      "current number: 9 previous number: 8 sum: 17\n"
     ]
    }
   ],
   "source": [
    "#solution\n",
    "print(\"printing current and previous number sum in a range(10)\")\n",
    "for i in range (0,10):\n",
    "    if(i < 1):\n",
    "        print(\"current number: \" + str(i) + \" previous number: \" + str(i) + \" sum: \" + str(i))\n",
    "    else:\n",
    "        print(\"current number: \" + str(i) + \" previous number: \" + str(i-1) + \" sum: \" + str(i+(i-1)))\n",
    "    \n"
   ]
  },
  {
   "cell_type": "markdown",
   "id": "8fe6e441",
   "metadata": {},
   "source": [
    " 3. Define a function called **is_odd** that takes an integer as its argument and tells the user if it is even, odd, or zero.\n",
    " \n",
    " Expected Output:\n",
    "> is_odd(1) \n",
    ">> Odd\n",
    "\n",
    "> is_odd(2)\n",
    ">> Even\n",
    "\n",
    "> is_odd(4)\n",
    ">> Even\n",
    "\n",
    "> is_odd(7)\n",
    ">> Odd\n",
    "\n",
    "> is_odd(0)\n",
    ">> integer is zero"
   ]
  },
  {
   "cell_type": "code",
   "execution_count": 32,
   "id": "2ab8aaa5",
   "metadata": {},
   "outputs": [
    {
     "name": "stdout",
     "output_type": "stream",
     "text": [
      "integer is even\n",
      "integer is zero\n",
      "integer is odd\n"
     ]
    }
   ],
   "source": [
    "#solution\n",
    "def is_odd(num):\n",
    "    if(num == 0):\n",
    "        print(\"integer is zero\")\n",
    "    elif(num % 2 == 0):\n",
    "        print(\"integer is even\")\n",
    "    else:\n",
    "        print(\"integer is odd\")\n",
    "\n",
    "is_odd(8)\n",
    "is_odd(0)\n",
    "is_odd(3)\n"
   ]
  },
  {
   "cell_type": "markdown",
   "id": "bd3e504a",
   "metadata": {},
   "source": [
    "4. Unpack the tuple tuple1.\n",
    "Expected output:\n",
    "> tuple1 = (0, 5, 10, 15)\\\n",
    "> #Your code\\\n",
    "> print(a) #should print 0\\\n",
    "> print(a) #should print 5\\\n",
    "> print(a) #should print 10\\\n",
    "> print(a) #should print 15"
   ]
  },
  {
   "cell_type": "code",
   "execution_count": 35,
   "id": "c5da6573",
   "metadata": {},
   "outputs": [
    {
     "name": "stdout",
     "output_type": "stream",
     "text": [
      "0\n",
      "5\n",
      "10\n",
      "15\n"
     ]
    }
   ],
   "source": [
    "tuple1 = (0, 5, 10, 15)\n",
    "\n",
    "#solution\n",
    "print(tuple1[0])\n",
    "print(tuple1[1])\n",
    "print(tuple1[2])\n",
    "print(tuple1[3])\n"
   ]
  }
 ],
 "metadata": {
  "kernelspec": {
   "display_name": "Python 3 (ipykernel)",
   "language": "python",
   "name": "python3"
  },
  "language_info": {
   "codemirror_mode": {
    "name": "ipython",
    "version": 3
   },
   "file_extension": ".py",
   "mimetype": "text/x-python",
   "name": "python",
   "nbconvert_exporter": "python",
   "pygments_lexer": "ipython3",
   "version": "3.9.7"
  }
 },
 "nbformat": 4,
 "nbformat_minor": 5
}
